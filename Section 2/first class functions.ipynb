{
 "cells": [
  {
   "cell_type": "markdown",
   "id": "9dd6f85c",
   "metadata": {},
   "source": [
    "A first class function just means that functions can be passed as arguments to functions."
   ]
  },
  {
   "cell_type": "code",
   "execution_count": 1,
   "id": "d6bb8fce",
   "metadata": {},
   "outputs": [
    {
     "name": "stdout",
     "output_type": "stream",
     "text": [
      "5.0\n"
     ]
    }
   ],
   "source": [
    "def calculate(*values, operator):\n",
    "    return operator(*values)\n",
    "\n",
    "\n",
    "def divide(dividend, divisor):\n",
    "    if divisor != 0:\n",
    "        return dividend / divisor\n",
    "    else:\n",
    "        return \"You fool!\"\n",
    "\n",
    "\n",
    "# We pass the `divide` function as an argument\n",
    "result = calculate(20, 4, operator=divide)\n",
    "print(result)\n",
    "\n"
   ]
  },
  {
   "cell_type": "code",
   "execution_count": 2,
   "id": "37bd4a73",
   "metadata": {},
   "outputs": [
    {
     "name": "stdout",
     "output_type": "stream",
     "text": [
      "25.0\n"
     ]
    }
   ],
   "source": [
    "def average(*values):\n",
    "    return sum(values) / len(values)\n",
    "\n",
    "\n",
    "result = calculate(10, 20, 30, 40, operator=average)\n",
    "print(result)\n"
   ]
  },
  {
   "cell_type": "markdown",
   "id": "db6dac1d",
   "metadata": {},
   "source": [
    "### -- searching with first-class functions --"
   ]
  },
  {
   "cell_type": "code",
   "execution_count": 4,
   "id": "af954966",
   "metadata": {},
   "outputs": [
    {
     "name": "stdout",
     "output_type": "stream",
     "text": [
      "{'name': 'Rolf Smith', 'age': 24}\n"
     ]
    }
   ],
   "source": [
    "def search(sequence, expected, finder):\n",
    "    for elem in sequence:\n",
    "        if finder(elem) == expected:\n",
    "            return elem\n",
    "    raise RuntimeError(f\"Could not find an element with {expected}\")\n",
    "\n",
    "\n",
    "friends = [\n",
    "    {\"name\": \"Rolf Smith\", \"age\": 24},\n",
    "    {\"name\": \"Adam Wool\", \"age\": 30},\n",
    "    {\"name\": \"Anne Pun\", \"age\": 27},\n",
    "]\n",
    "\n",
    "\n",
    "def get_friend_name(friend):\n",
    "    return friend[\"name\"]\n",
    "\n",
    "\n",
    "print(search(friends, \"Rolf Smith\", get_friend_name))"
   ]
  },
  {
   "cell_type": "code",
   "execution_count": 6,
   "id": "8d3444de",
   "metadata": {},
   "outputs": [
    {
     "name": "stdout",
     "output_type": "stream",
     "text": [
      "{'name': 'Rolf Smith', 'age': 24}\n"
     ]
    }
   ],
   "source": [
    "# -- using lambdas since this can be simple enough --\n",
    "print(search(friends, \"Rolf Smith\", lambda friend: friend[\"name\"]))"
   ]
  },
  {
   "cell_type": "code",
   "execution_count": 7,
   "id": "716ba5cd",
   "metadata": {},
   "outputs": [
    {
     "name": "stdout",
     "output_type": "stream",
     "text": [
      "{'name': 'Rolf Smith', 'age': 24}\n"
     ]
    }
   ],
   "source": [
    "# -- or as an extra, using built-in functions --\n",
    "\n",
    "from operator import itemgetter\n",
    "print(search(friends, \"Rolf Smith\", itemgetter(\"name\")))"
   ]
  },
  {
   "cell_type": "code",
   "execution_count": null,
   "id": "383d0cd0",
   "metadata": {},
   "outputs": [],
   "source": []
  }
 ],
 "metadata": {
  "kernelspec": {
   "display_name": "CompletePy",
   "language": "python",
   "name": "completepy"
  },
  "language_info": {
   "codemirror_mode": {
    "name": "ipython",
    "version": 3
   },
   "file_extension": ".py",
   "mimetype": "text/x-python",
   "name": "python",
   "nbconvert_exporter": "python",
   "pygments_lexer": "ipython3",
   "version": "3.10.4"
  }
 },
 "nbformat": 4,
 "nbformat_minor": 5
}
