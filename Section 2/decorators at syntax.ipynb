{
 "cells": [
  {
   "cell_type": "code",
   "execution_count": 4,
   "id": "ad59f1f4",
   "metadata": {},
   "outputs": [
    {
     "name": "stdout",
     "output_type": "stream",
     "text": [
      "No admin permissions for jose.\n",
      "secure_function\n"
     ]
    }
   ],
   "source": [
    "user = {\"username\": \"jose\", \"access_level\": \"guest\"}\n",
    "\n",
    "\n",
    "def make_secure(func):\n",
    "    def secure_function():\n",
    "        if user[\"access_level\"] == \"admin\":\n",
    "            return func()\n",
    "        else:\n",
    "            return f\"No admin permissions for {user['username']}.\"\n",
    "\n",
    "    return secure_function\n",
    "\n",
    "\n",
    "@make_secure\n",
    "def get_admin_password():\n",
    "    return \"1234\"\n",
    "\n",
    "print(get_admin_password())\n",
    "print(get_admin_password.__name__)"
   ]
  },
  {
   "cell_type": "code",
   "execution_count": 3,
   "id": "b5cf3425",
   "metadata": {},
   "outputs": [
    {
     "name": "stdout",
     "output_type": "stream",
     "text": [
      "get_admin_password\n"
     ]
    }
   ],
   "source": [
    "# -- keeping function name and docstring --\n",
    "import functools\n",
    "\n",
    "\n",
    "user = {\"username\": \"jose\", \"access_level\": \"guest\"}\n",
    "\n",
    "\n",
    "def make_secure(func):\n",
    "    @functools.wraps(func) # makes secure function a wrapper\n",
    "    def secure_function():\n",
    "        if user[\"access_level\"] == \"admin\":\n",
    "            return func()\n",
    "        else:\n",
    "            return f\"No admin permissions for {user['username']}.\"\n",
    "\n",
    "    return secure_function\n",
    "\n",
    "\n",
    "@make_secure\n",
    "def get_admin_password():\n",
    "    return \"1234\"\n",
    "\n",
    "print(get_admin_password.__name__)"
   ]
  },
  {
   "cell_type": "markdown",
   "id": "2a3162e5",
   "metadata": {},
   "source": [
    "# decorators with parameters"
   ]
  },
  {
   "cell_type": "code",
   "execution_count": 8,
   "id": "f94e6550",
   "metadata": {},
   "outputs": [],
   "source": [
    "import functools\n",
    "\n",
    "\n",
    "user = {\"username\": \"jose\", \"access_level\": \"guest\"}\n",
    "\n",
    "\n",
    "def make_secure(func):\n",
    "    @functools.wraps(func)\n",
    "    def secure_function(panel):\n",
    "        if user[\"access_level\"] == \"admin\":\n",
    "            return func(panel)\n",
    "        else:\n",
    "            return f\"No admin permissions for {user['username']}.\"\n",
    "\n",
    "    return secure_function\n",
    "\n",
    "\n",
    "@make_secure\n",
    "def get_password(panel):\n",
    "    if panel == \"admin\":\n",
    "        return \"1234\"\n",
    "    elif panel == \"billing\":\n",
    "        return \"super_secure_password\"\n",
    "\n",
    "\n"
   ]
  },
  {
   "cell_type": "markdown",
   "id": "ce25e28c",
   "metadata": {},
   "source": [
    "print(get_password(\"admin\"))  # Error before adding parameters, works after\n",
    "But now we've coupled our function to our decorator. We can't decorate a different function, which isn't great!\n",
    "Instead we could take unlimited parameters and pass whatever we get down to the original function\n"
   ]
  },
  {
   "cell_type": "code",
   "execution_count": 9,
   "id": "e05c7f05",
   "metadata": {},
   "outputs": [
    {
     "name": "stdout",
     "output_type": "stream",
     "text": [
      "No admin permissions for jose.\n",
      "No admin permissions for jose.\n",
      "1234\n",
      "super_secure_password\n"
     ]
    }
   ],
   "source": [
    "\n",
    "\n",
    "def make_secure(func):\n",
    "    @functools.wraps(func)\n",
    "    def secure_function(*args, **kwargs):\n",
    "        if user[\"access_level\"] == \"admin\":\n",
    "            return func(*args, **kwargs)\n",
    "        else:\n",
    "            return f\"No admin permissions for {user['username']}.\"\n",
    "\n",
    "    return secure_function\n",
    "\n",
    "\n",
    "@make_secure\n",
    "def get_password(panel):\n",
    "    if panel == \"admin\":\n",
    "        return \"1234\"\n",
    "    elif panel == \"billing\":\n",
    "        return \"super_secure_password\"\n",
    "\n",
    "\n",
    "print(get_password(\"admin\"))\n",
    "print(get_password(\"billing\"))\n",
    "\n",
    "user = {\"username\": \"bob\", \"access_level\": \"admin\"}\n",
    "\n",
    "print(get_password(\"admin\"))\n",
    "print(get_password(\"billing\"))"
   ]
  },
  {
   "cell_type": "markdown",
   "id": "6e5a6675",
   "metadata": {},
   "source": [
    "# decorators with parameters 2"
   ]
  },
  {
   "cell_type": "code",
   "execution_count": null,
   "id": "f8774288",
   "metadata": {},
   "outputs": [],
   "source": [
    "import functools\n",
    "\n",
    "user = {\"username\": \"anna\", \"access_level\": \"user\"}\n",
    "\n",
    "\n",
    "def make_secure(func):\n",
    "    @functools.wraps(func)\n",
    "    def secure_function(*args, **kwargs):\n",
    "        if user[\"access_level\"] == \"admin\":\n",
    "            return func(*args, **kwargs)\n",
    "        else:\n",
    "            return f\"No admin permissions for {user['username']}.\"\n",
    "\n",
    "    return secure_function\n",
    "\n",
    "\n",
    "@make_secure\n",
    "def get_admin_password():\n",
    "    return \"admin: 1234\"\n",
    "\n",
    "\n",
    "@make_secure\n",
    "def get_dashboard_password():\n",
    "    return \"user: user_password\"\n",
    "\n",
    "\n",
    "# What if we wanted some passwords to be available to \"user\" and others to \"admin\" ?\n",
    "\n"
   ]
  },
  {
   "cell_type": "code",
   "execution_count": 12,
   "id": "e4c497d5",
   "metadata": {},
   "outputs": [
    {
     "name": "stdout",
     "output_type": "stream",
     "text": [
      "No admin permissions for anna.\n",
      "user: user_password\n",
      "admin: 1234\n",
      "No user permissions for anna.\n"
     ]
    }
   ],
   "source": [
    "user = {\"username\": \"anna\", \"access_level\": \"user\"}\n",
    "\n",
    "\n",
    "def make_secure(access_level):\n",
    "    def decorator(func):\n",
    "        @functools.wraps(func)\n",
    "        def secure_function(*args, **kwargs):\n",
    "            if user[\"access_level\"] == access_level:\n",
    "                return func(*args, **kwargs)\n",
    "            else:\n",
    "                return f\"No {access_level} permissions for {user['username']}.\"\n",
    "\n",
    "        return secure_function\n",
    "\n",
    "    return decorator\n",
    "\n",
    "\n",
    "@make_secure(\n",
    "    \"admin\"\n",
    ")   # This runs the make_secure function, which returns decorator. Essentially the same to doing `@decorator`, \n",
    "    # which is what we had before.\n",
    "def get_admin_password():\n",
    "    return \"admin: 1234\"\n",
    "\n",
    "\n",
    "@make_secure(\"user\")\n",
    "def get_dashboard_password():\n",
    "    return \"user: user_password\"\n",
    "\n",
    "\n",
    "print(get_admin_password())\n",
    "print(get_dashboard_password())\n",
    "\n",
    "user = {\"username\": \"anna\", \"access_level\": \"admin\"}\n",
    "\n",
    "print(get_admin_password())\n",
    "print(get_dashboard_password())"
   ]
  },
  {
   "cell_type": "code",
   "execution_count": null,
   "id": "b8177234",
   "metadata": {},
   "outputs": [],
   "source": []
  }
 ],
 "metadata": {
  "kernelspec": {
   "display_name": "CompletePy",
   "language": "python",
   "name": "completepy"
  },
  "language_info": {
   "codemirror_mode": {
    "name": "ipython",
    "version": 3
   },
   "file_extension": ".py",
   "mimetype": "text/x-python",
   "name": "python",
   "nbconvert_exporter": "python",
   "pygments_lexer": "ipython3",
   "version": "3.10.4"
  }
 },
 "nbformat": 4,
 "nbformat_minor": 5
}
