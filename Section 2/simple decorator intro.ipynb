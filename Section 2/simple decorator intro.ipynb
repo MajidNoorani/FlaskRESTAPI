{
 "cells": [
  {
   "cell_type": "code",
   "execution_count": 2,
   "id": "d749f975",
   "metadata": {},
   "outputs": [],
   "source": [
    "user = {\"username\": \"jose\", \"access_level\": \"guest\"}"
   ]
  },
  {
   "cell_type": "code",
   "execution_count": 1,
   "id": "95a830e7",
   "metadata": {},
   "outputs": [
    {
     "name": "stdout",
     "output_type": "stream",
     "text": [
      "1234\n"
     ]
    }
   ],
   "source": [
    "def get_admin_password():\n",
    "    return \"1234\"\n",
    "\n",
    "\n",
    "print(get_admin_password())  # Can do this even though I'm a \"guest\""
   ]
  },
  {
   "cell_type": "code",
   "execution_count": 3,
   "id": "0cc0a3d3",
   "metadata": {},
   "outputs": [
    {
     "name": "stdout",
     "output_type": "stream",
     "text": [
      "1234\n"
     ]
    }
   ],
   "source": [
    "# Now this only runs if I'm an admin... but\n",
    "if user[\"access_level\"] == \"admin\":\n",
    "    print(get_admin_password())\n",
    "\n",
    "print(get_admin_password())  # The function itself is still unsecured"
   ]
  },
  {
   "cell_type": "code",
   "execution_count": 5,
   "id": "2581b281",
   "metadata": {},
   "outputs": [
    {
     "name": "stdout",
     "output_type": "stream",
     "text": [
      "1234\n",
      "1234\n"
     ]
    }
   ],
   "source": [
    "# -- \"secure\" function --\n",
    "\n",
    "\n",
    "def secure_get_admin():\n",
    "    if user[\"access_level\"] == \"admin\":\n",
    "        print(get_admin_password())\n",
    "\n",
    "\n",
    "# Now secure_get_admin() is secure.\n",
    "# But get_admin_password() is still around, and I could call it:\n",
    "\n",
    "secure_get_admin()\n",
    "print(get_admin_password())"
   ]
  },
  {
   "cell_type": "code",
   "execution_count": 6,
   "id": "2bc7a9b1",
   "metadata": {},
   "outputs": [
    {
     "name": "stdout",
     "output_type": "stream",
     "text": [
      "1234\n"
     ]
    }
   ],
   "source": [
    "# We want to get rid of get_admin_password so that only the secure function remains!\n",
    "# Maybe something like this?\n",
    "\n",
    "\n",
    "def secure_function(func):\n",
    "    if user[\"access_level\"] == \"admin\":\n",
    "        return func\n",
    "\n",
    "\n",
    "user = {\"username\": \"bob\", \"access_level\": \"admin\"}\n",
    "\n",
    "get_admin_password = secure_function(get_admin_password)\n",
    "print(get_admin_password())  # Error!\n",
    "\n",
    "# When we ran `secure_function`, we checked the user's access level. Because at that point the user was not an admin, the function did not `return func`. Therefore `get_admin_password` is set to `None`.\n",
    "\n",
    "# We want to delay overwriting until we run the function"
   ]
  },
  {
   "cell_type": "code",
   "execution_count": 8,
   "id": "93efdd07",
   "metadata": {},
   "outputs": [
    {
     "name": "stdout",
     "output_type": "stream",
     "text": [
      "No admin permissions for jose.\n",
      "1234\n"
     ]
    }
   ],
   "source": [
    "def get_admin_password():\n",
    "    return \"1234\"\n",
    "\n",
    "\n",
    "def make_secure(func):\n",
    "    def secure_function():\n",
    "        if user[\"access_level\"] == \"admin\":\n",
    "            return func()\n",
    "        else:\n",
    "            return f\"No admin permissions for {user['username']}.\"\n",
    "\n",
    "    return secure_function\n",
    "\n",
    "\n",
    "get_admin_password = make_secure(\n",
    "    get_admin_password\n",
    ")  # `get_admin_password` is now `secure_func` from above\n",
    "\n",
    "user = {\"username\": \"jose\", \"access_level\": \"guest\"}\n",
    "print(get_admin_password())  # Now we check access level\n",
    "\n",
    "user = {\"username\": \"bob\", \"access_level\": \"admin\"}\n",
    "print(get_admin_password())  # Now we check access level"
   ]
  },
  {
   "cell_type": "code",
   "execution_count": null,
   "id": "084a2a5e",
   "metadata": {},
   "outputs": [],
   "source": []
  }
 ],
 "metadata": {
  "kernelspec": {
   "display_name": "CompletePy",
   "language": "python",
   "name": "completepy"
  },
  "language_info": {
   "codemirror_mode": {
    "name": "ipython",
    "version": 3
   },
   "file_extension": ".py",
   "mimetype": "text/x-python",
   "name": "python",
   "nbconvert_exporter": "python",
   "pygments_lexer": "ipython3",
   "version": "3.10.4"
  }
 },
 "nbformat": 4,
 "nbformat_minor": 5
}
